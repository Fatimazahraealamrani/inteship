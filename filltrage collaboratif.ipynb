{
 "cells": [
  {
   "cell_type": "code",
   "execution_count": 1,
   "metadata": {},
   "outputs": [],
   "source": [
    "import pandas as pd\n",
    "\n",
    "from sklearn.metrics.pairwise import cosine_similarity\n",
    "import numpy as np"
   ]
  },
  {
   "cell_type": "code",
   "execution_count": 2,
   "metadata": {},
   "outputs": [],
   "source": [
    "fake_data_set=np.array([[4,5,1,2,3,1],[2,3,2,5,3,1],[1,5,5,2,1,1],[4,2,4,2,5,1],[1,3,3,5,3,1],[4,4,1,2,4,2]])\n"
   ]
  },
  {
   "cell_type": "code",
   "execution_count": 3,
   "metadata": {},
   "outputs": [
    {
     "data": {
      "text/plain": [
       "array([[4, 5, 1, 2, 3, 1],\n",
       "       [2, 3, 2, 5, 3, 1],\n",
       "       [1, 5, 5, 2, 1, 1],\n",
       "       [4, 2, 4, 2, 5, 1],\n",
       "       [1, 3, 3, 5, 3, 1],\n",
       "       [4, 4, 1, 2, 4, 2]])"
      ]
     },
     "execution_count": 3,
     "metadata": {},
     "output_type": "execute_result"
    }
   ],
   "source": [
    "fake_data_set\n"
   ]
  },
  {
   "cell_type": "code",
   "execution_count": 4,
   "metadata": {},
   "outputs": [],
   "source": [
    "matrix = pd.DataFrame(fake_data_set,index=['user1','user2','user3','user4','user5','user6'],columns=['Product1','Product2','Product3','Product4','Product5','Product6'])"
   ]
  },
  {
   "cell_type": "code",
   "execution_count": 5,
   "metadata": {},
   "outputs": [
    {
     "data": {
      "text/html": [
       "<div>\n",
       "<style scoped>\n",
       "    .dataframe tbody tr th:only-of-type {\n",
       "        vertical-align: middle;\n",
       "    }\n",
       "\n",
       "    .dataframe tbody tr th {\n",
       "        vertical-align: top;\n",
       "    }\n",
       "\n",
       "    .dataframe thead th {\n",
       "        text-align: right;\n",
       "    }\n",
       "</style>\n",
       "<table border=\"1\" class=\"dataframe\">\n",
       "  <thead>\n",
       "    <tr style=\"text-align: right;\">\n",
       "      <th></th>\n",
       "      <th>Product1</th>\n",
       "      <th>Product2</th>\n",
       "      <th>Product3</th>\n",
       "      <th>Product4</th>\n",
       "      <th>Product5</th>\n",
       "      <th>Product6</th>\n",
       "    </tr>\n",
       "  </thead>\n",
       "  <tbody>\n",
       "    <tr>\n",
       "      <th>user1</th>\n",
       "      <td>4</td>\n",
       "      <td>5</td>\n",
       "      <td>1</td>\n",
       "      <td>2</td>\n",
       "      <td>3</td>\n",
       "      <td>1</td>\n",
       "    </tr>\n",
       "    <tr>\n",
       "      <th>user2</th>\n",
       "      <td>2</td>\n",
       "      <td>3</td>\n",
       "      <td>2</td>\n",
       "      <td>5</td>\n",
       "      <td>3</td>\n",
       "      <td>1</td>\n",
       "    </tr>\n",
       "    <tr>\n",
       "      <th>user3</th>\n",
       "      <td>1</td>\n",
       "      <td>5</td>\n",
       "      <td>5</td>\n",
       "      <td>2</td>\n",
       "      <td>1</td>\n",
       "      <td>1</td>\n",
       "    </tr>\n",
       "    <tr>\n",
       "      <th>user4</th>\n",
       "      <td>4</td>\n",
       "      <td>2</td>\n",
       "      <td>4</td>\n",
       "      <td>2</td>\n",
       "      <td>5</td>\n",
       "      <td>1</td>\n",
       "    </tr>\n",
       "    <tr>\n",
       "      <th>user5</th>\n",
       "      <td>1</td>\n",
       "      <td>3</td>\n",
       "      <td>3</td>\n",
       "      <td>5</td>\n",
       "      <td>3</td>\n",
       "      <td>1</td>\n",
       "    </tr>\n",
       "    <tr>\n",
       "      <th>user6</th>\n",
       "      <td>4</td>\n",
       "      <td>4</td>\n",
       "      <td>1</td>\n",
       "      <td>2</td>\n",
       "      <td>4</td>\n",
       "      <td>2</td>\n",
       "    </tr>\n",
       "  </tbody>\n",
       "</table>\n",
       "</div>"
      ],
      "text/plain": [
       "       Product1  Product2  Product3  Product4  Product5  Product6\n",
       "user1         4         5         1         2         3         1\n",
       "user2         2         3         2         5         3         1\n",
       "user3         1         5         5         2         1         1\n",
       "user4         4         2         4         2         5         1\n",
       "user5         1         3         3         5         3         1\n",
       "user6         4         4         1         2         4         2"
      ]
     },
     "execution_count": 5,
     "metadata": {},
     "output_type": "execute_result"
    }
   ],
   "source": [
    "matrix\n"
   ]
  },
  {
   "cell_type": "code",
   "execution_count": 6,
   "metadata": {},
   "outputs": [
    {
     "data": {
      "text/html": [
       "<div>\n",
       "<style scoped>\n",
       "    .dataframe tbody tr th:only-of-type {\n",
       "        vertical-align: middle;\n",
       "    }\n",
       "\n",
       "    .dataframe tbody tr th {\n",
       "        vertical-align: top;\n",
       "    }\n",
       "\n",
       "    .dataframe thead th {\n",
       "        text-align: right;\n",
       "    }\n",
       "</style>\n",
       "<table border=\"1\" class=\"dataframe\">\n",
       "  <thead>\n",
       "    <tr style=\"text-align: right;\">\n",
       "      <th></th>\n",
       "      <th>Product1</th>\n",
       "      <th>Product2</th>\n",
       "      <th>Product3</th>\n",
       "      <th>Product4</th>\n",
       "      <th>Product5</th>\n",
       "      <th>Product6</th>\n",
       "    </tr>\n",
       "  </thead>\n",
       "  <tbody>\n",
       "    <tr>\n",
       "      <th>user1</th>\n",
       "      <td>0.444444</td>\n",
       "      <td>0.444444</td>\n",
       "      <td>-0.416667</td>\n",
       "      <td>-0.333333</td>\n",
       "      <td>-0.041667</td>\n",
       "      <td>-0.166667</td>\n",
       "    </tr>\n",
       "    <tr>\n",
       "      <th>user2</th>\n",
       "      <td>-0.222222</td>\n",
       "      <td>-0.222222</td>\n",
       "      <td>-0.166667</td>\n",
       "      <td>0.666667</td>\n",
       "      <td>-0.041667</td>\n",
       "      <td>-0.166667</td>\n",
       "    </tr>\n",
       "    <tr>\n",
       "      <th>user3</th>\n",
       "      <td>-0.555556</td>\n",
       "      <td>0.444444</td>\n",
       "      <td>0.583333</td>\n",
       "      <td>-0.333333</td>\n",
       "      <td>-0.541667</td>\n",
       "      <td>-0.166667</td>\n",
       "    </tr>\n",
       "    <tr>\n",
       "      <th>user4</th>\n",
       "      <td>0.444444</td>\n",
       "      <td>-0.555556</td>\n",
       "      <td>0.333333</td>\n",
       "      <td>-0.333333</td>\n",
       "      <td>0.458333</td>\n",
       "      <td>-0.166667</td>\n",
       "    </tr>\n",
       "    <tr>\n",
       "      <th>user5</th>\n",
       "      <td>-0.555556</td>\n",
       "      <td>-0.222222</td>\n",
       "      <td>0.083333</td>\n",
       "      <td>0.666667</td>\n",
       "      <td>-0.041667</td>\n",
       "      <td>-0.166667</td>\n",
       "    </tr>\n",
       "    <tr>\n",
       "      <th>user6</th>\n",
       "      <td>0.444444</td>\n",
       "      <td>0.111111</td>\n",
       "      <td>-0.416667</td>\n",
       "      <td>-0.333333</td>\n",
       "      <td>0.208333</td>\n",
       "      <td>0.833333</td>\n",
       "    </tr>\n",
       "  </tbody>\n",
       "</table>\n",
       "</div>"
      ],
      "text/plain": [
       "       Product1  Product2  Product3  Product4  Product5  Product6\n",
       "user1  0.444444  0.444444 -0.416667 -0.333333 -0.041667 -0.166667\n",
       "user2 -0.222222 -0.222222 -0.166667  0.666667 -0.041667 -0.166667\n",
       "user3 -0.555556  0.444444  0.583333 -0.333333 -0.541667 -0.166667\n",
       "user4  0.444444 -0.555556  0.333333 -0.333333  0.458333 -0.166667\n",
       "user5 -0.555556 -0.222222  0.083333  0.666667 -0.041667 -0.166667\n",
       "user6  0.444444  0.111111 -0.416667 -0.333333  0.208333  0.833333"
      ]
     },
     "execution_count": 6,
     "metadata": {},
     "output_type": "execute_result"
    }
   ],
   "source": [
    "# standarisation par rapport a la moyenne = 0\n",
    "def standarize(row):\n",
    "    new_row=(row - row.mean())/(row.max()-row.min())\n",
    "    return new_row\n",
    "\n",
    "rating_std = matrix.apply(standarize)\n",
    "rating_std"
   ]
  },
  {
   "cell_type": "code",
   "execution_count": 7,
   "metadata": {},
   "outputs": [
    {
     "name": "stdout",
     "output_type": "stream",
     "text": [
      "[[ 1.         -0.07312724 -0.54232614 -0.60024505  0.73292627  0.43386092]\n",
      " [-0.07312724  1.         -0.16854997 -0.42640143 -0.70406806  0.13483997]\n",
      " [-0.54232614 -0.16854997  1.         -0.07905694 -0.33786231 -0.5       ]\n",
      " [-0.60024505 -0.42640143 -0.07905694  1.         -0.09712859 -0.31622777]\n",
      " [ 0.73292627 -0.70406806 -0.33786231 -0.09712859  1.          0.30714756]\n",
      " [ 0.43386092  0.13483997 -0.5        -0.31622777  0.30714756  1.        ]]\n"
     ]
    }
   ],
   "source": [
    "# we are taking a transpose since we want similarity between items which need to be in rows\n",
    "item_similarity = cosine_similarity(rating_std.T)\n",
    "print(item_similarity)"
   ]
  },
  {
   "cell_type": "code",
   "execution_count": 8,
   "metadata": {},
   "outputs": [],
   "source": [
    "item_similarity_df = pd.DataFrame(item_similarity,index=['Product1','Product2','Product3','Product4','Product5','Product6'],columns=['Product1','Product2','Product3','Product4','Product5','Product6'])"
   ]
  },
  {
   "cell_type": "code",
   "execution_count": 9,
   "metadata": {},
   "outputs": [
    {
     "data": {
      "text/html": [
       "<div>\n",
       "<style scoped>\n",
       "    .dataframe tbody tr th:only-of-type {\n",
       "        vertical-align: middle;\n",
       "    }\n",
       "\n",
       "    .dataframe tbody tr th {\n",
       "        vertical-align: top;\n",
       "    }\n",
       "\n",
       "    .dataframe thead th {\n",
       "        text-align: right;\n",
       "    }\n",
       "</style>\n",
       "<table border=\"1\" class=\"dataframe\">\n",
       "  <thead>\n",
       "    <tr style=\"text-align: right;\">\n",
       "      <th></th>\n",
       "      <th>Product1</th>\n",
       "      <th>Product2</th>\n",
       "      <th>Product3</th>\n",
       "      <th>Product4</th>\n",
       "      <th>Product5</th>\n",
       "      <th>Product6</th>\n",
       "    </tr>\n",
       "  </thead>\n",
       "  <tbody>\n",
       "    <tr>\n",
       "      <th>Product1</th>\n",
       "      <td>1.000000</td>\n",
       "      <td>-0.073127</td>\n",
       "      <td>-0.542326</td>\n",
       "      <td>-0.600245</td>\n",
       "      <td>0.732926</td>\n",
       "      <td>0.433861</td>\n",
       "    </tr>\n",
       "    <tr>\n",
       "      <th>Product2</th>\n",
       "      <td>-0.073127</td>\n",
       "      <td>1.000000</td>\n",
       "      <td>-0.168550</td>\n",
       "      <td>-0.426401</td>\n",
       "      <td>-0.704068</td>\n",
       "      <td>0.134840</td>\n",
       "    </tr>\n",
       "    <tr>\n",
       "      <th>Product3</th>\n",
       "      <td>-0.542326</td>\n",
       "      <td>-0.168550</td>\n",
       "      <td>1.000000</td>\n",
       "      <td>-0.079057</td>\n",
       "      <td>-0.337862</td>\n",
       "      <td>-0.500000</td>\n",
       "    </tr>\n",
       "    <tr>\n",
       "      <th>Product4</th>\n",
       "      <td>-0.600245</td>\n",
       "      <td>-0.426401</td>\n",
       "      <td>-0.079057</td>\n",
       "      <td>1.000000</td>\n",
       "      <td>-0.097129</td>\n",
       "      <td>-0.316228</td>\n",
       "    </tr>\n",
       "    <tr>\n",
       "      <th>Product5</th>\n",
       "      <td>0.732926</td>\n",
       "      <td>-0.704068</td>\n",
       "      <td>-0.337862</td>\n",
       "      <td>-0.097129</td>\n",
       "      <td>1.000000</td>\n",
       "      <td>0.307148</td>\n",
       "    </tr>\n",
       "    <tr>\n",
       "      <th>Product6</th>\n",
       "      <td>0.433861</td>\n",
       "      <td>0.134840</td>\n",
       "      <td>-0.500000</td>\n",
       "      <td>-0.316228</td>\n",
       "      <td>0.307148</td>\n",
       "      <td>1.000000</td>\n",
       "    </tr>\n",
       "  </tbody>\n",
       "</table>\n",
       "</div>"
      ],
      "text/plain": [
       "          Product1  Product2  Product3  Product4  Product5  Product6\n",
       "Product1  1.000000 -0.073127 -0.542326 -0.600245  0.732926  0.433861\n",
       "Product2 -0.073127  1.000000 -0.168550 -0.426401 -0.704068  0.134840\n",
       "Product3 -0.542326 -0.168550  1.000000 -0.079057 -0.337862 -0.500000\n",
       "Product4 -0.600245 -0.426401 -0.079057  1.000000 -0.097129 -0.316228\n",
       "Product5  0.732926 -0.704068 -0.337862 -0.097129  1.000000  0.307148\n",
       "Product6  0.433861  0.134840 -0.500000 -0.316228  0.307148  1.000000"
      ]
     },
     "execution_count": 9,
     "metadata": {},
     "output_type": "execute_result"
    }
   ],
   "source": [
    "item_similarity_df"
   ]
  },
  {
   "cell_type": "code",
   "execution_count": 10,
   "metadata": {},
   "outputs": [
    {
     "data": {
      "text/plain": [
       "Product1    1.500000\n",
       "Product5    1.099389\n",
       "Product6    0.650791\n",
       "Product2   -0.109691\n",
       "Product3   -0.813489\n",
       "Product4   -0.900368\n",
       "Name: Product1, dtype: float64"
      ]
     },
     "execution_count": 10,
     "metadata": {},
     "output_type": "execute_result"
    }
   ],
   "source": [
    "# get the similar product (make recommandaation)\n",
    "def get_similar_Product(Product_name,user_rating):\n",
    "    similar_score = item_similarity_df[Product_name]*(user_rating-2.5)\n",
    "    similar_score = similar_score.sort_values(ascending=False)\n",
    "    return similar_score\n",
    "# i will give to Product1 4 so show me the produces that my i love it\n",
    "Products = get_similar_Product('Product1',4)\n",
    "# print(produit[products > 2.5 ])\n",
    "Products"
   ]
  },
  {
   "cell_type": "code",
   "execution_count": 11,
   "metadata": {},
   "outputs": [
    {
     "data": {
      "text/plain": [
       "Product1    2.214100\n",
       "Product6    1.373931\n",
       "Product2    1.126109\n",
       "Product5    0.839109\n",
       "Product4   -1.236334\n",
       "Product3   -2.349022\n",
       "dtype: float64"
      ]
     },
     "execution_count": 11,
     "metadata": {},
     "output_type": "execute_result"
    }
   ],
   "source": [
    "# make recommandation for this user \n",
    "user_action = [('Product1',5),('Product5',1),('Product3',1)]  \n",
    "similar_products =  pd.DataFrame()\n",
    "for product,rating in user_action:\n",
    "    similar_products = similar_products.append(get_similar_Product(product,rating),ignore_index=True)\n",
    "\n",
    "similar_products.head()   \n",
    "similar_products.sum().sort_values(ascending=False)"
   ]
  }
 ],
 "metadata": {
  "kernelspec": {
   "display_name": "Python 3",
   "language": "python",
   "name": "python3"
  },
  "language_info": {
   "codemirror_mode": {
    "name": "ipython",
    "version": 3
   },
   "file_extension": ".py",
   "mimetype": "text/x-python",
   "name": "python",
   "nbconvert_exporter": "python",
   "pygments_lexer": "ipython3",
   "version": "3.7.6"
  },
  "orig_nbformat": 4
 },
 "nbformat": 4,
 "nbformat_minor": 2
}
