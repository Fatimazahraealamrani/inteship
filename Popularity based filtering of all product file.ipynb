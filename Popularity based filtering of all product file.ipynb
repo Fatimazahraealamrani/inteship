{
 "cells": [
  {
   "cell_type": "code",
   "execution_count": null,
   "metadata": {},
   "outputs": [],
   "source": [
    "'''Popularity-based technique use the idea of recommend\n",
    " popular items, so I will recommend high rating items \n",
    "descendingPopularity-based technique use the idea of \n",
    "recommend popular items, so I will recommend high rating\n",
    "items descending'''\n",
    "'''n the website where new user visit, I will show each top 5\n",
    " items of each categories. \n",
    "So, the user can explore what currently trending or popular'''\n"
   ]
  },
  {
   "cell_type": "code",
   "execution_count": 4,
   "metadata": {},
   "outputs": [
    {
     "name": "stdout",
     "output_type": "stream",
     "text": [
      "categories\n",
      "<class 'pandas.core.frame.DataFrame'>\n",
      "RangeIndex: 27555 entries, 0 to 27554\n",
      "Data columns (total 10 columns):\n",
      " #   Column        Non-Null Count  Dtype  \n",
      "---  ------        --------------  -----  \n",
      " 0   index         27555 non-null  int64  \n",
      " 1   product       27554 non-null  object \n",
      " 2   category      27555 non-null  object \n",
      " 3   sub_category  27555 non-null  object \n",
      " 4   brand         27554 non-null  object \n",
      " 5   sale_price    27555 non-null  float64\n",
      " 6   market_price  27555 non-null  float64\n",
      " 7   type          27555 non-null  object \n",
      " 8   rating        18929 non-null  float64\n",
      " 9   description   27440 non-null  object \n",
      "dtypes: float64(3), int64(1), object(6)\n",
      "memory usage: 2.1+ MB\n"
     ]
    }
   ],
   "source": [
    "#we have this categories\n",
    "import pandas as pd\n",
    "\n",
    "DATA=pd.read_csv('ALL_PRODUCTS.csv')\n",
    "print('categories')\n",
    "\n",
    "DATA.info()"
   ]
  },
  {
   "cell_type": "code",
   "execution_count": 11,
   "metadata": {},
   "outputs": [
    {
     "name": "stdout",
     "output_type": "stream",
     "text": [
      "<class 'pandas.core.frame.DataFrame'>\n",
      "Int64Index: 23541 entries, 0 to 27553\n",
      "Data columns (total 10 columns):\n",
      " #   Column        Non-Null Count  Dtype  \n",
      "---  ------        --------------  -----  \n",
      " 0   index         23541 non-null  int64  \n",
      " 1   product       23540 non-null  object \n",
      " 2   category      23541 non-null  object \n",
      " 3   sub_category  23541 non-null  object \n",
      " 4   brand         23540 non-null  object \n",
      " 5   sale_price    23541 non-null  float64\n",
      " 6   market_price  23541 non-null  float64\n",
      " 7   type          23541 non-null  object \n",
      " 8   rating        16098 non-null  float64\n",
      " 9   description   23445 non-null  object \n",
      "dtypes: float64(3), int64(1), object(6)\n",
      "memory usage: 2.0+ MB\n"
     ]
    },
    {
     "data": {
      "text/plain": [
       "'The groupby() method in pandas returns a GroupBy object,\\n which is a powerful and flexible way to split a DataFrame \\n into groups based on some criterion, such as unique values\\nin a specific column. It does not return a new DataFrame\\n immediately but provides an intermediate object that represents \\n the grouped data'"
      ]
     },
     "execution_count": 11,
     "metadata": {},
     "output_type": "execute_result"
    }
   ],
   "source": [
    "DATA.category.value_counts()\n",
    "DATA.drop_duplicates(inplace=True ,subset=['product'])\n",
    "DATA.info()\n",
    "#as we see we have many category so we will show to the new customer the top 5 products off each category\n",
    "#we will group the dataframe by category and sorting them by rating \n",
    "\n",
    "groupes=DATA.sort_values(by='rating', ascending=False).groupby('category')\n",
    "'''The parameter ascending=False in the sort_values method \n",
    "ensures that \n",
    " the DataFrame is sorted in descending order of ratings'''\n",
    "\n",
    "\n",
    "'''The groupby() method in pandas returns a GroupBy object,\n",
    " which is a powerful and flexible way to split a DataFrame \n",
    " into groups based on some criterion, such as unique values\n",
    "in a specific column. It does not return a new DataFrame\n",
    " immediately but provides an intermediate object that represents \n",
    " the grouped data'''\n",
    "\n"
   ]
  },
  {
   "cell_type": "code",
   "execution_count": 13,
   "metadata": {},
   "outputs": [
    {
     "name": "stdout",
     "output_type": "stream",
     "text": [
      "                    category              sub_category  \\\n",
      "0                  Baby Care           Diapers & Wipes   \n",
      "1                  Baby Care          Baby Accessories   \n",
      "2                  Baby Care       Baby Bath & Hygiene   \n",
      "3                  Baby Care           Diapers & Wipes   \n",
      "4                  Baby Care           Diapers & Wipes   \n",
      "5      Bakery, Cakes & Dairy                     Dairy   \n",
      "6      Bakery, Cakes & Dairy     Cookies, Rusk & Khari   \n",
      "7      Bakery, Cakes & Dairy          Cakes & Pastries   \n",
      "8      Bakery, Cakes & Dairy          Cakes & Pastries   \n",
      "9      Bakery, Cakes & Dairy                     Dairy   \n",
      "10          Beauty & Hygiene                 Skin Care   \n",
      "11          Beauty & Hygiene                 Skin Care   \n",
      "12          Beauty & Hygiene         Health & Medicine   \n",
      "13          Beauty & Hygiene         Fragrances & Deos   \n",
      "14          Beauty & Hygiene          Feminine Hygiene   \n",
      "15                 Beverages                       Tea   \n",
      "16                 Beverages                       Tea   \n",
      "17                 Beverages                       Tea   \n",
      "18                 Beverages                       Tea   \n",
      "19                 Beverages                       Tea   \n",
      "20      Cleaning & Household      Bins & Bathroom Ware   \n",
      "21      Cleaning & Household                Stationery   \n",
      "22      Cleaning & Household     Detergents & Dishwash   \n",
      "23      Cleaning & Household  Disposables, Garbage Bag   \n",
      "24      Cleaning & Household      All Purpose Cleaners   \n",
      "25         Eggs, Meat & Fish            Fish & Seafood   \n",
      "26         Eggs, Meat & Fish  Sausages, Bacon & Salami   \n",
      "27         Eggs, Meat & Fish  Sausages, Bacon & Salami   \n",
      "28         Eggs, Meat & Fish  Sausages, Bacon & Salami   \n",
      "29         Eggs, Meat & Fish  Sausages, Bacon & Salami   \n",
      "30  Foodgrains, Oil & Masala          Masalas & Spices   \n",
      "31  Foodgrains, Oil & Masala                Dry Fruits   \n",
      "32  Foodgrains, Oil & Masala          Masalas & Spices   \n",
      "33  Foodgrains, Oil & Masala           Organic Staples   \n",
      "34  Foodgrains, Oil & Masala             Dals & Pulses   \n",
      "35       Fruits & Vegetables            Cuts & Sprouts   \n",
      "36       Fruits & Vegetables              Fresh Fruits   \n",
      "37       Fruits & Vegetables          Fresh Vegetables   \n",
      "38       Fruits & Vegetables              Fresh Fruits   \n",
      "39       Fruits & Vegetables        Herbs & Seasonings   \n",
      "40      Gourmet & World Food     Chocolates & Biscuits   \n",
      "41      Gourmet & World Food    Cooking & Baking Needs   \n",
      "42      Gourmet & World Food     Chocolates & Biscuits   \n",
      "43      Gourmet & World Food    Cooking & Baking Needs   \n",
      "44      Gourmet & World Food            Oils & Vinegar   \n",
      "45    Kitchen, Garden & Pets      Cookware & Non Stick   \n",
      "46    Kitchen, Garden & Pets    Pet Food & Accessories   \n",
      "47    Kitchen, Garden & Pets        Crockery & Cutlery   \n",
      "48    Kitchen, Garden & Pets        Crockery & Cutlery   \n",
      "49    Kitchen, Garden & Pets        Crockery & Cutlery   \n",
      "50    Snacks & Branded Foods         Pickles & Chutney   \n",
      "51    Snacks & Branded Foods  Spreads, Sauces, Ketchup   \n",
      "52    Snacks & Branded Foods          Snacks & Namkeen   \n",
      "53    Snacks & Branded Foods          Snacks & Namkeen   \n",
      "54    Snacks & Branded Foods        Biscuits & Cookies   \n",
      "\n",
      "                                              product  rating  \n",
      "0                                  Baby Happy Tissues     5.0  \n",
      "1                     Baby Soft Relax Teethers - 2 M+     5.0  \n",
      "2                   Natural Baby Bath & Lotion Bundle     5.0  \n",
      "3                             Baby Wipes - Combo Pack     5.0  \n",
      "4                     Wonder Pants Large - 99 Diapers     5.0  \n",
      "5                                      Dairy Whitener     5.0  \n",
      "6                    Sugar Free Oats & Raisin Cookies     5.0  \n",
      "7          Plum Cake - Christmas, Wholewheat, Eggless     5.0  \n",
      "8                               Italian Tiramisu Cake     5.0  \n",
      "9          Tempeh Cubes - Spiced Tawa Masala Soyabean     5.0  \n",
      "10                             Tea Tree Essential Oil     5.0  \n",
      "11                                Skin Fairness Serum     5.0  \n",
      "12                                       Sumac Powder     5.0  \n",
      "13                           Bio Rejuvenating Vetiver     5.0  \n",
      "14  Clean & Pure Intimate Hygiene Wash With Tea Tr...     5.0  \n",
      "15  Citrus Ginger Herbal Loose Leaf Tea Tisane - 5...     5.0  \n",
      "16              Nilgiris Green Tea - Anicca Chamomile     5.0  \n",
      "17          Organics Dia Health Tea - Herbal Infusion     5.0  \n",
      "18          Green Tea - Organic Honey Lemon Long Leaf     5.0  \n",
      "19           Darjeeling Black Tea - Bodh Second Flush     5.0  \n",
      "20              Cloth Clip -  With Rope Set, Assorted     5.0  \n",
      "21  Marvel Avengers Polyester Round Shaped Pencil ...     5.0  \n",
      "22             Dishwash Liquid - Sweet Orange & Lemon     5.0  \n",
      "23  Toilet Tissue Paper - Elegant Perfumed, 3Ply, ...     5.0  \n",
      "24                               Herbal Floor Cleaner     5.0  \n",
      "25                           Fresh Catch Fish Fingers     NaN  \n",
      "26                           Chicken Cocktail Sausage     NaN  \n",
      "27                                Pork Classic Salami     NaN  \n",
      "28                         Pork - Fresh Bacon, Sliced     NaN  \n",
      "29                    Chicken Jalapeno Cheese Nuggets     NaN  \n",
      "30                       Seasoning - Red Onion Powder     5.0  \n",
      "31                      Mitha Sonff - Mouth Freshener     5.0  \n",
      "32                                 Jeera/Cumin Powder     5.0  \n",
      "33                         Organic Food Groundnut Oil     5.0  \n",
      "34                            Soyatein - Minni Warian     5.0  \n",
      "35                      Sweet Corn Kernels - Chipotle     NaN  \n",
      "36                         Sapota - Organically Grown     NaN  \n",
      "37                                      Cabbage - Red     NaN  \n",
      "38                                       Banana - Red     NaN  \n",
      "39                               Chilli - Bajji, Mild     NaN  \n",
      "40                                          Amla Goli     5.0  \n",
      "41                      Organic Powder - Barley Grass     5.0  \n",
      "42                              Dairy Milk - Imported     5.0  \n",
      "43                                 Yellow Curry Paste     5.0  \n",
      "44                           Extra Virgin Coconut Oil     5.0  \n",
      "45  Simply Chef 28 cm Non-Stick Coating Tawa - Gri...     5.0  \n",
      "46              Cat Care - Comfort Bowl, 64Oz GIb1011     5.0  \n",
      "47            Borosilicate Tempered Glass Mixing Bowl     5.0  \n",
      "48          Opalware Ivory 2 Dinner Set - Ivory Blush     5.0  \n",
      "49                              Candy Jar - Cambridge     5.0  \n",
      "50                                   Szechuan Chutney     5.0  \n",
      "51                                    Dark Soya Sauce     5.0  \n",
      "52                    No Rulz Masala Curlz Corn Puffs     5.0  \n",
      "53                                     Garlic Mixture     5.0  \n",
      "54                   Dark Cookies Cream - Family Pack     5.0  \n"
     ]
    }
   ],
   "source": [
    "#now we will provide a function to return the ttop 5 products of eash category\n",
    "def top_5(group):\n",
    "    return group.head(5)\n",
    "\n",
    "#applying this fuction on grouped data frame using apply() mehtod which returns another pandas series\n",
    "result=groupes.apply(top_5).reset_index(drop=True)\n",
    "print(result[['category','sub_category','product','rating']])"
   ]
  },
  {
   "cell_type": "markdown",
   "metadata": {},
   "source": [
    "as we see we have the top 5 products for eash category\n",
    "we have now the result , i need to develop the application for the traitement"
   ]
  },
  {
   "cell_type": "code",
   "execution_count": null,
   "metadata": {},
   "outputs": [],
   "source": []
  },
  {
   "cell_type": "code",
   "execution_count": null,
   "metadata": {},
   "outputs": [],
   "source": []
  }
 ],
 "metadata": {
  "kernelspec": {
   "display_name": "Python 3",
   "language": "python",
   "name": "python3"
  },
  "language_info": {
   "codemirror_mode": {
    "name": "ipython",
    "version": 3
   },
   "file_extension": ".py",
   "mimetype": "text/x-python",
   "name": "python",
   "nbconvert_exporter": "python",
   "pygments_lexer": "ipython3",
   "version": "3.7.6"
  },
  "orig_nbformat": 4
 },
 "nbformat": 4,
 "nbformat_minor": 2
}
